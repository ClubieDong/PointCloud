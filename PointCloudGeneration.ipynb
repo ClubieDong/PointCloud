{
 "cells": [
  {
   "cell_type": "code",
   "execution_count": 1,
   "metadata": {},
   "outputs": [],
   "source": [
    "# Import\n",
    "import scipy.io\n",
    "import scipy.signal\n",
    "import sklearn.cluster\n",
    "import numpy as np\n",
    "import matplotlib.pyplot as plt\n",
    "from tqdm import tqdm\n",
    "import os\n",
    "import cv2"
   ]
  },
  {
   "cell_type": "code",
   "execution_count": 2,
   "metadata": {},
   "outputs": [],
   "source": [
    "# Parameters\n",
    "n_antenna = 4\n",
    "n_frame_per_antenna = 400\n",
    "n_chirp_per_frame = 128\n",
    "n_sample_per_chirp = 512\n",
    "d_antenna = 0.5\n",
    "\n",
    "n_angle = 180\n",
    "alpha_spacial_cov = 0.01\n",
    "\n",
    "n_guard_cell_range = 8   # number of guard cells along range dimension\n",
    "n_train_cell_range = 24  # number of train cells along range dimension\n",
    "exp_pfa_range = 1e-3     # expected probability of false alarm\n",
    "\n",
    "n_guard_cell_angle = 8   # number of guard cells along angle dimension\n",
    "n_train_cell_angle = 24   # number of train cells along angle dimension\n",
    "exp_pfa_angle = 1e-3     # expected probability of false alarm\n",
    "\n",
    "dbscan_eps = 3\n",
    "dbscan_min_samples = 2"
   ]
  },
  {
   "cell_type": "code",
   "execution_count": 3,
   "metadata": {},
   "outputs": [],
   "source": [
    "# Read data\n",
    "raw_data = scipy.io.loadmat(\"data/PeopleWalking/1.mat\")[\"a\"]\n",
    "raw_data = raw_data.T.reshape((n_antenna, n_frame_per_antenna, n_chirp_per_frame, n_sample_per_chirp))"
   ]
  },
  {
   "cell_type": "code",
   "execution_count": 4,
   "metadata": {},
   "outputs": [
    {
     "name": "stderr",
     "output_type": "stream",
     "text": [
      "100%|██████████| 400/400 [03:16<00:00,  2.04it/s]\n"
     ]
    }
   ],
   "source": [
    "# Range FFT\n",
    "range_fft_raw = np.fft.fft(raw_data, axis=3)\n",
    "# Static Clutter Removal\n",
    "range_fft = range_fft_raw - range_fft_raw.mean(axis=2).reshape((n_antenna, n_frame_per_antenna, 1, n_sample_per_chirp))\n",
    "# Doppler FFT\n",
    "doppler_fft = np.fft.fft(range_fft, axis=2)\n",
    "# Angle vector\n",
    "angle_vector = np.arange(n_angle) / n_angle * np.pi - np.pi / 2\n",
    "angle_vector = np.sin(angle_vector).reshape((-1, 1)) @ np.arange(n_antenna).reshape((1, -1))\n",
    "angle_vector = np.exp(2j * np.pi * d_antenna * angle_vector)\n",
    "# Generate range-azimuth heatmap using CAPON\n",
    "range_azimuth = np.empty((n_frame_per_antenna, n_sample_per_chirp, n_angle), dtype=complex)\n",
    "for frame_idx in tqdm(range(n_frame_per_antenna)):\n",
    "    for range_idx in range(n_sample_per_chirp):\n",
    "        x = range_fft[:, frame_idx, :, range_idx]\n",
    "        r = x @ x.conj().T / 128\n",
    "        r += alpha_spacial_cov * np.trace(r) / n_antenna * np.eye(n_antenna)\n",
    "        r = np.linalg.inv(r)\n",
    "        for angle_idx in range(n_angle):\n",
    "            a = angle_vector[angle_idx].reshape((-1, 1))\n",
    "            range_azimuth[frame_idx, range_idx, angle_idx] = 1 / (a.conj().T @ r @ a)[0, 0]"
   ]
  },
  {
   "cell_type": "code",
   "execution_count": 5,
   "metadata": {},
   "outputs": [
    {
     "name": "stderr",
     "output_type": "stream",
     "text": [
      "100%|██████████| 400/400 [00:03<00:00, 104.90it/s]\n",
      "100%|██████████| 400/400 [00:05<00:00, 68.47it/s]\n"
     ]
    }
   ],
   "source": [
    "# CFAR along range dimension\n",
    "kernel_range = np.ones((n_guard_cell_range + n_train_cell_range) * 2 + 1)\n",
    "kernel_range[n_train_cell_range:n_train_cell_range+2*n_guard_cell_range+1] = 0\n",
    "kernel_range_sum = kernel_range.sum()\n",
    "alpha_range = n_train_cell_range * 2 * (exp_pfa_range ** (-1 / (n_train_cell_range * 2)) - 1)\n",
    "cfar_range = np.empty_like(range_azimuth, dtype=bool)\n",
    "for frame_idx in tqdm(range(n_frame_per_antenna)):\n",
    "    for angle_idx in range(n_angle):\n",
    "        data = np.abs(range_azimuth[frame_idx, :, angle_idx])\n",
    "        threshold = alpha_range * scipy.signal.convolve(data, kernel_range, mode=\"same\") / kernel_range_sum\n",
    "        cfar_range[frame_idx, :, angle_idx] = data > threshold\n",
    "\n",
    "# CFAR along angle dimension\n",
    "kernel_angle = np.ones((n_guard_cell_angle + n_train_cell_angle) * 2 + 1)\n",
    "kernel_angle[n_train_cell_angle:n_train_cell_angle+2*n_guard_cell_angle+1] = 0\n",
    "kernel_angle_sum = kernel_angle.sum()\n",
    "alpha_angle = n_train_cell_angle * 2 * (exp_pfa_angle ** (-1 / (n_train_cell_angle * 2)) - 1)\n",
    "cfar_angle = np.empty_like(range_azimuth, dtype=bool)\n",
    "for frame_idx in tqdm(range(n_frame_per_antenna)):\n",
    "    for range_idx in range(n_sample_per_chirp):\n",
    "        data = np.abs(range_azimuth[frame_idx, range_idx, :])\n",
    "        threshold = alpha_angle * scipy.signal.convolve(data, kernel_angle, mode=\"same\") / kernel_angle_sum\n",
    "        cfar_angle[frame_idx, range_idx, :] = data > threshold\n",
    "\n",
    "# 2-pass CFAR\n",
    "range_azimuth_cfar = np.logical_and(cfar_range, cfar_angle)"
   ]
  },
  {
   "cell_type": "code",
   "execution_count": 6,
   "metadata": {},
   "outputs": [
    {
     "name": "stderr",
     "output_type": "stream",
     "text": [
      "100%|██████████| 400/400 [00:00<00:00, 1085.28it/s]\n"
     ]
    }
   ],
   "source": [
    "range_azimuth_dbscan = range_azimuth_cfar.copy()\n",
    "for frame_idx in tqdm(range(n_frame_per_antenna)):\n",
    "    data = range_azimuth_dbscan[frame_idx]\n",
    "    # Coordinate transform\n",
    "    row, col = np.where(data)\n",
    "    radius = n_sample_per_chirp - row\n",
    "    theta = np.deg2rad(col / n_angle * 180)\n",
    "    x = radius * np.cos(theta)\n",
    "    y = radius * np.sin(theta)\n",
    "    points = np.stack([x, y]).T\n",
    "    # DBSCAN\n",
    "    if len(points) == 0:\n",
    "        continue\n",
    "    dbscan = sklearn.cluster.DBSCAN(eps=dbscan_eps, min_samples=dbscan_min_samples)\n",
    "    result = dbscan.fit(points).labels_\n",
    "    # Remove all points outside the largest cluster\n",
    "    largest_cluster = np.bincount(result + 1).argmax() - 1\n",
    "    remove = result != largest_cluster\n",
    "    data[row[remove], col[remove]] = False"
   ]
  },
  {
   "cell_type": "code",
   "execution_count": 7,
   "metadata": {},
   "outputs": [
    {
     "name": "stderr",
     "output_type": "stream",
     "text": [
      "100%|██████████| 400/400 [00:01<00:00, 285.49it/s]\n"
     ]
    }
   ],
   "source": [
    "# Doppler FFT on each object in range-azimuth heatmap\n",
    "velocity_range_azimuth = np.zeros((n_frame_per_antenna, n_sample_per_chirp, n_angle), dtype=np.int64)\n",
    "for frame_idx in tqdm(range(n_frame_per_antenna)):\n",
    "    for range_idx in range(n_sample_per_chirp):\n",
    "        if not np.any(range_azimuth_dbscan[frame_idx, range_idx]):\n",
    "            continue\n",
    "        x = range_fft[:, frame_idx, :, range_idx]\n",
    "        r = x @ x.conj().T / 128\n",
    "        r += alpha_spacial_cov * np.trace(r) / n_antenna * np.eye(n_antenna)\n",
    "        r = np.linalg.inv(r)\n",
    "        for angle_idx in range(n_angle):\n",
    "            if not range_azimuth_dbscan[frame_idx, range_idx, angle_idx]:\n",
    "                continue\n",
    "            a = angle_vector[angle_idx].reshape((-1, 1))\n",
    "            p = 1 / (a.conj().T @ r @ a)[0, 0]\n",
    "            w = r @ a / p\n",
    "            wx = (w.T @ x)[0]\n",
    "            v = np.abs(np.fft.fft(wx))\n",
    "            v = np.roll(v, shift=int(len(v)/2))\n",
    "            velocity_range_azimuth[frame_idx, range_idx, angle_idx] = v.argmax() - int(len(v)/2)"
   ]
  },
  {
   "cell_type": "code",
   "execution_count": 24,
   "metadata": {},
   "outputs": [],
   "source": [
    "def img2video(path, count=n_frame_per_antenna, height=720, width=720, fps=25):\n",
    "    fourcc = cv2.VideoWriter_fourcc(*\"mp4v\")\n",
    "    video = cv2.VideoWriter(path, fourcc, fps, (width, height))\n",
    "    for idx in range(count):\n",
    "        img = cv2.imread(f\"fig/tmp/{idx}.jpg\")\n",
    "        video.write(img)\n",
    "    video.release()\n",
    "\n",
    "def show_range_fft(range_fft, path, title):\n",
    "    data = np.mean(np.abs(range_fft), axis=0)\n",
    "    data = data.reshape((n_frame_per_antenna*n_chirp_per_frame, n_sample_per_chirp))\n",
    "    data = data.T[int(n_sample_per_chirp/2):]\n",
    "    data = cv2.resize(data, (512, 512), interpolation=cv2.INTER_AREA)\n",
    "    plt.figure(figsize=(10, 10))\n",
    "    # plt.title(title)\n",
    "    plt.imshow(data, vmax=1e4, cmap=\"Blues\", extent=[0,16,0,12.4])\n",
    "    plt.xlabel(\"Time/s\", fontsize=16)\n",
    "    plt.ylabel(\"Distance/m\", fontsize=16)\n",
    "    plt.savefig(path)\n",
    "    plt.close()\n",
    "\n",
    "def show_doppler_fft(doppler_fft):\n",
    "    for frame_idx in tqdm(range(n_frame_per_antenna)):\n",
    "        data = np.mean(np.abs(doppler_fft[:, frame_idx]), axis=0)\n",
    "        data = data.T[int(n_sample_per_chirp/2):]\n",
    "        data = data[:, 1:]\n",
    "        data = np.roll(data, shift=int(n_chirp_per_frame/2), axis=1)\n",
    "        data = data[:, ::-1]\n",
    "        plt.figure(figsize=(10, 10))\n",
    "        # plt.title(f\"Doppler FFT\")\n",
    "        plt.imshow(data, vmax=1e5, cmap=\"Blues\", extent=[-4,4,0,12.4])\n",
    "        plt.xlabel(\"Speed/m/s\", fontsize=16)\n",
    "        plt.ylabel(\"Distance/m\", fontsize=16)\n",
    "        plt.savefig(f\"fig/tmp/{frame_idx}.jpg\")\n",
    "        plt.close()\n",
    "    img2video(f\"fig/doppler_fft.mp4\")\n",
    "\n",
    "def plot_heatmap(heatmap, name, vmin, vmax, title, cmap=\"Blues\"):\n",
    "    os.makedirs(\"fig/tmp\", exist_ok=True)\n",
    "    x = np.deg2rad(np.arange(n_angle))\n",
    "    y = np.arange(int(n_sample_per_chirp/2))\n",
    "    for frame_idx in tqdm(range(n_frame_per_antenna)):\n",
    "        data = np.abs(heatmap[frame_idx, int(n_sample_per_chirp/2):][::-1])\n",
    "        fig = plt.figure(figsize=(10, 10), dpi=72)\n",
    "        ax = fig.add_subplot(111, polar=True)\n",
    "        ax.set_thetamin(0)\n",
    "        ax.set_thetamax(180)\n",
    "        ax.grid(False)\n",
    "        ax.pcolormesh(x, y, data, shading=\"nearest\", vmin=vmin, vmax=vmax, cmap=cmap)\n",
    "        # plt.title(title)\n",
    "        plt.savefig(f\"fig/tmp/{frame_idx}.jpg\")\n",
    "        plt.close()\n",
    "    img2video(f\"fig/{name}.mp4\")"
   ]
  },
  {
   "cell_type": "code",
   "execution_count": 64,
   "metadata": {},
   "outputs": [
    {
     "name": "stderr",
     "output_type": "stream",
     "text": [
      "100%|██████████| 400/400 [01:57<00:00,  3.41it/s]\n"
     ]
    }
   ],
   "source": [
    "os.makedirs(\"fig/tmp\", exist_ok=True)\n",
    "\n",
    "show_range_fft(range_fft_raw, \"fig/range_fft_raw.jpg\", \"Range FFT\")\n",
    "show_range_fft(range_fft, \"fig/range_fft.jpg\", \"Range FFT (after static clutter removal)\")\n",
    "\n",
    "show_doppler_fft(doppler_fft)\n",
    "\n",
    "plot_heatmap(range_azimuth, \"range_azimuth\", vmin=0, vmax=1e6, title=\"Range Azimuth\")\n",
    "plot_heatmap(range_azimuth_cfar, \"range_azimuth_cfar\", vmin=0, vmax=1, title=\"Range Azimuth (after CFAR)\")\n",
    "plot_heatmap(range_azimuth_dbscan, \"range_azimuth_dbscan\", vmin=0, vmax=1, title=\"Range Azimuth (after CFAR & DBSCAN)\")\n",
    "plot_heatmap(velocity_range_azimuth+20, \"velocity_range_azimuth\", vmin=0, vmax=40, title=\"Velocity Range Azimuth\", cmap=\"RdBu\")"
   ]
  }
 ],
 "metadata": {
  "interpreter": {
   "hash": "a8aa3162778107b987621bf0705f76aee9871609012e7950160dd4d8bf3b56a2"
  },
  "kernelspec": {
   "display_name": "Python 3.9.12 ('MachineLearning')",
   "language": "python",
   "name": "python3"
  },
  "language_info": {
   "codemirror_mode": {
    "name": "ipython",
    "version": 3
   },
   "file_extension": ".py",
   "mimetype": "text/x-python",
   "name": "python",
   "nbconvert_exporter": "python",
   "pygments_lexer": "ipython3",
   "version": "3.9.12"
  },
  "orig_nbformat": 4
 },
 "nbformat": 4,
 "nbformat_minor": 2
}
